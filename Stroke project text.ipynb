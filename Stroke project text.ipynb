{
 "cells": [
  {
   "cell_type": "code",
   "execution_count": null,
   "id": "30159e6e",
   "metadata": {},
   "outputs": [],
   "source": [
    "# 1) Shown sample dataset\n",
    "\n",
    "# 2) Data Preprocessing\n",
    "###shown preprocessed dataset\n",
    "\n",
    "# 3)a) DATA VISUALISATION\n",
    "\n",
    "# Bar plot for gender distribution\n",
    "# Age distribution histogram\n",
    "# Bar plot for marriage status\n",
    "# Bar plot for work type\n",
    "# Bar plot for residence type\n",
    "\n",
    "# 3)b) GLUCOSE LEVELS\n",
    "\n",
    "# Distribution of average glucose level\n",
    "# Bar plot for normal_glucose_fasted\n",
    "# Bar plot for normal_glucose_not_fasted\n",
    "\n",
    "# 3)c) BMI DISTRIBUTION\n",
    "\n",
    "# Distribution of BMI (excluding null values)\n",
    "# Bar plot for healthy_bmi\n",
    "# Bar plot for smoking status\n",
    "# Bar plot for stroke\n",
    "\n",
    "# 3)d) CORRELATION - GLUCOSE AND STROKE\n",
    "\n",
    "# Boxplot for glucose level by stroke status\n",
    "# Countplot for hypertension and heart disease\n",
    "\n",
    "\n",
    "# 4) Correlation Matrix\n",
    "\n",
    "# 5) Model Training and Testing \n",
    "\n",
    "# 6) User Input for stroke prediction\n",
    "\n",
    "# 7) User data analysis\n",
    "\n",
    "# 8) Conclusionss\n"
   ]
  }
 ],
 "metadata": {
  "kernelspec": {
   "display_name": "Python 3 (ipykernel)",
   "language": "python",
   "name": "python3"
  },
  "language_info": {
   "codemirror_mode": {
    "name": "ipython",
    "version": 3
   },
   "file_extension": ".py",
   "mimetype": "text/x-python",
   "name": "python",
   "nbconvert_exporter": "python",
   "pygments_lexer": "ipython3",
   "version": "3.11.3"
  }
 },
 "nbformat": 4,
 "nbformat_minor": 5
}
